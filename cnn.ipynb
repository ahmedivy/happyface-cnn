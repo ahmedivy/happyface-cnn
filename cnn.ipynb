{
 "cells": [
  {
   "cell_type": "code",
   "execution_count": 81,
   "id": "7af83dd8",
   "metadata": {},
   "outputs": [],
   "source": [
    "import h5py\n",
    "import numpy as np\n",
    "import matplotlib.pyplot as plt"
   ]
  },
  {
   "cell_type": "code",
   "execution_count": 82,
   "id": "20f2a7f5",
   "metadata": {},
   "outputs": [],
   "source": [
    "def load_happy_dataset():\n",
    "    train_dataset = h5py.File('datasets/train_happy.h5', \"r\")\n",
    "    train_set_x_orig = np.array(train_dataset[\"train_set_x\"][:]) # your train set features\n",
    "    train_set_y_orig = np.array(train_dataset[\"train_set_y\"][:]) # your train set labels\n",
    "\n",
    "    test_dataset = h5py.File('datasets/test_happy.h5', \"r\")\n",
    "    test_set_x_orig = np.array(test_dataset[\"test_set_x\"][:]) # your test set features\n",
    "    test_set_y_orig = np.array(test_dataset[\"test_set_y\"][:]) # your test set labels\n",
    "\n",
    "    classes = np.array(test_dataset[\"list_classes\"][:]) # the list of classes\n",
    "    \n",
    "    train_set_y_orig = train_set_y_orig.reshape((1, train_set_y_orig.shape[0]))\n",
    "    test_set_y_orig = test_set_y_orig.reshape((1, test_set_y_orig.shape[0]))\n",
    "    \n",
    "    return train_set_x_orig, train_set_y_orig, test_set_x_orig, test_set_y_orig, classes"
   ]
  },
  {
   "cell_type": "code",
   "execution_count": 83,
   "id": "430f8911",
   "metadata": {},
   "outputs": [],
   "source": [
    "x_train, y_train, x_test, y_test, classes = load_happy_dataset()"
   ]
  },
  {
   "cell_type": "code",
   "execution_count": 84,
   "id": "7011ac21",
   "metadata": {},
   "outputs": [
    {
     "name": "stdout",
     "output_type": "stream",
     "text": [
      "number of training examples = 600\n",
      "number of test examples = 150\n",
      "X_train shape: (600, 64, 64, 3)\n",
      "Y_train shape: (600, 1)\n",
      "X_test shape: (150, 64, 64, 3)\n",
      "Y_test shape: (150, 1)\n"
     ]
    }
   ],
   "source": [
    "# Normalize image vectors\n",
    "x_train = x_train/255.\n",
    "x_test = x_test/255.\n",
    "\n",
    "# Reshape\n",
    "y_train = y_train.T\n",
    "y_test = y_test.T\n",
    "\n",
    "print (\"number of training examples = \" + str(x_train.shape[0]))\n",
    "print (\"number of test examples = \" + str(x_test.shape[0]))\n",
    "print (\"X_train shape: \" + str(x_train.shape))\n",
    "print (\"Y_train shape: \" + str(y_train.shape))\n",
    "print (\"X_test shape: \" + str(x_test.shape))\n",
    "print (\"Y_test shape: \" + str(y_test.shape))"
   ]
  },
  {
   "cell_type": "code",
   "execution_count": 85,
   "id": "dad3eb68",
   "metadata": {},
   "outputs": [
    {
     "data": {
      "image/png": "[encoded data removed]",
      "text/plain": [
       "<Figure size 640x480 with 1 Axes>"
      ]
     },
     "metadata": {},
     "output_type": "display_data"
    }
   ],
   "source": [
    "index = 4\n",
    "plt.imshow(x_train[index]) #display sample training image\n",
    "plt.show()"
   ]
  },
  {
   "cell_type": "code",
   "execution_count": 86,
   "id": "190358a8",
   "metadata": {},
   "outputs": [],
   "source": [
    "import torch\n",
    "import torch.nn as nn\n",
    "import torch.optim as optim\n",
    "import torch.nn.functional as F"
   ]
  },
  {
   "cell_type": "code",
   "execution_count": 87,
   "id": "ca296ad2",
   "metadata": {},
   "outputs": [],
   "source": [
    "class HappyCNN(nn.Module):\n",
    "    def __init__(self, input_channels = 3):\n",
    "        super(HappyCNN, self).__init__()\n",
    "        self.conv = nn.Conv2d(input_channels, 32, kernel_size=7, stride=1, padding=3)\n",
    "        self.bn = nn.BatchNorm2d(32)\n",
    "        self.relu = nn.ReLU()\n",
    "        self.pool = nn.MaxPool2d(kernel_size=2)\n",
    "        self.flatten = nn.Flatten()\n",
    "        self.fc = nn.Linear(32 * 32 * 32, 1)\n",
    "\n",
    "    def forward(self, x):\n",
    "        x = self.conv(x)\n",
    "        x = self.bn(x)\n",
    "        x = self.relu(x)\n",
    "        x = self.pool(x)\n",
    "        x = self.flatten(x)\n",
    "        x = self.fc(x)\n",
    "        x = F.sigmoid(x)\n",
    "        return x"
   ]
  },
  {
   "cell_type": "code",
   "execution_count": 88,
   "id": "b571023e",
   "metadata": {},
   "outputs": [],
   "source": [
    "model = HappyCNN()"
   ]
  },
  {
   "cell_type": "code",
   "execution_count": 89,
   "id": "41f6a9ce",
   "metadata": {},
   "outputs": [
    {
     "name": "stdout",
     "output_type": "stream",
     "text": [
      "==========================================================================================\n",
      "Layer (type:depth-idx)                   Output Shape              Param #\n",
      "==========================================================================================\n",
      "├─Conv2d: 1-1                            [-1, 32, 64, 64]          4,736\n",
      "├─BatchNorm2d: 1-2                       [-1, 32, 64, 64]          64\n",
      "├─ReLU: 1-3                              [-1, 32, 64, 64]          --\n",
      "├─MaxPool2d: 1-4                         [-1, 32, 32, 32]          --\n",
      "├─Flatten: 1-5                           [-1, 32768]               --\n",
      "├─Linear: 1-6                            [-1, 1]                   32,769\n",
      "==========================================================================================\n",
      "Total params: 37,569\n",
      "Trainable params: 37,569\n",
      "Non-trainable params: 0\n",
      "Total mult-adds (M): 19.30\n",
      "==========================================================================================\n",
      "Input size (MB): 0.05\n",
      "Forward/backward pass size (MB): 2.00\n",
      "Params size (MB): 0.14\n",
      "Estimated Total Size (MB): 2.19\n",
      "==========================================================================================\n"
     ]
    },
    {
     "data": {
      "text/plain": [
       "==========================================================================================\n",
       "Layer (type:depth-idx)                   Output Shape              Param #\n",
       "==========================================================================================\n",
       "├─Conv2d: 1-1                            [-1, 32, 64, 64]          4,736\n",
       "├─BatchNorm2d: 1-2                       [-1, 32, 64, 64]          64\n",
       "├─ReLU: 1-3                              [-1, 32, 64, 64]          --\n",
       "├─MaxPool2d: 1-4                         [-1, 32, 32, 32]          --\n",
       "├─Flatten: 1-5                           [-1, 32768]               --\n",
       "├─Linear: 1-6                            [-1, 1]                   32,769\n",
       "==========================================================================================\n",
       "Total params: 37,569\n",
       "Trainable params: 37,569\n",
       "Non-trainable params: 0\n",
       "Total mult-adds (M): 19.30\n",
       "==========================================================================================\n",
       "Input size (MB): 0.05\n",
       "Forward/backward pass size (MB): 2.00\n",
       "Params size (MB): 0.14\n",
       "Estimated Total Size (MB): 2.19\n",
       "=========================================================================================="
      ]
     },
     "execution_count": 89,
     "metadata": {},
     "output_type": "execute_result"
    }
   ],
   "source": [
    "# Summary of model\n",
    "\n",
    "from torchsummary import summary\n",
    "\n",
    "summary(model, (3, 64, 64))"
   ]
  },
  {
   "cell_type": "code",
   "execution_count": 90,
   "id": "e416f184",
   "metadata": {},
   "outputs": [],
   "source": [
    "batch_size = 32\n",
    "epochs = 10"
   ]
  },
  {
   "cell_type": "code",
   "execution_count": 91,
   "id": "6c13eafc",
   "metadata": {},
   "outputs": [],
   "source": [
    "optimizer = optim.Adam(model.parameters(), lr=0.001)\n",
    "criterion = nn.BCELoss()"
   ]
  },
  {
   "cell_type": "code",
   "execution_count": 92,
   "id": "431e952a",
   "metadata": {},
   "outputs": [],
   "source": [
    "x_train = torch.from_numpy(x_train).float()\n",
    "y_train = torch.from_numpy(y_train).float()"
   ]
  },
  {
   "cell_type": "code",
   "execution_count": 93,
   "id": "6493feeb",
   "metadata": {},
   "outputs": [],
   "source": [
    "x_train.shape, y_train.shape\n",
    "x_train = x_train.permute(0, 3, 1, 2)"
   ]
  },
  {
   "cell_type": "code",
   "execution_count": 94,
   "id": "cb41af72",
   "metadata": {},
   "outputs": [
    {
     "name": "stdout",
     "output_type": "stream",
     "text": [
      "Epoch: 1, Loss: 0.769\n",
      "Epoch: 2, Loss: 0.228\n",
      "Epoch: 3, Loss: 0.212\n",
      "Epoch: 4, Loss: 0.261\n",
      "Epoch: 5, Loss: 0.281\n",
      "Epoch: 6, Loss: 0.236\n",
      "Epoch: 7, Loss: 0.033\n",
      "Epoch: 8, Loss: 0.131\n",
      "Epoch: 9, Loss: 0.048\n",
      "Epoch: 10, Loss: 0.018\n"
     ]
    }
   ],
   "source": [
    "for epoch in range(epochs):\n",
    "    for i in range(0, len(x_train), batch_size):\n",
    "        x_batch = x_train[i:i+batch_size]\n",
    "        y_batch = y_train[i:i+batch_size]\n",
    "\n",
    "        optimizer.zero_grad()\n",
    "        y_pred = model(x_batch)\n",
    "        loss = criterion(y_pred, y_batch)\n",
    "        loss.backward()\n",
    "        optimizer.step()\n",
    "\n",
    "    print(f'Epoch: {epoch+1}, Loss: {loss.item():.3f}')\n"
   ]
  },
  {
   "cell_type": "code",
   "execution_count": 95,
   "id": "74fbfec3",
   "metadata": {},
   "outputs": [
    {
     "data": {
      "text/plain": [
       "(torch.Size([150, 64, 64, 3]), torch.Size([150, 1]))"
      ]
     },
     "execution_count": 95,
     "metadata": {},
     "output_type": "execute_result"
    }
   ],
   "source": [
    "x_test = torch.from_numpy(x_test).float()\n",
    "y_test = torch.from_numpy(y_test).float()\n",
    "\n",
    "x_test.shape, y_test.shape"
   ]
  },
  {
   "cell_type": "code",
   "execution_count": 96,
   "id": "0dec689b",
   "metadata": {},
   "outputs": [],
   "source": [
    "x_test = x_test.permute(0, 3, 1, 2)"
   ]
  },
  {
   "cell_type": "code",
   "execution_count": 97,
   "id": "32b7e0bd",
   "metadata": {},
   "outputs": [
    {
     "name": "stdout",
     "output_type": "stream",
     "text": [
      "Accuracy: 0.967\n"
     ]
    }
   ],
   "source": [
    "\n",
    "with torch.no_grad():\n",
    "    y_pred = model(x_test)\n",
    "    y_pred = y_pred.round()\n",
    "    acc = y_pred.eq(y_test).sum() / float(y_test.shape[0])\n",
    "    print(f'Accuracy: {acc:.3f}')"
   ]
  },
  {
   "cell_type": "code",
   "execution_count": 98,
   "id": "4c8acbbf",
   "metadata": {},
   "outputs": [
    {
     "name": "stdout",
     "output_type": "stream",
     "text": [
      "The person is happy\n"
     ]
    }
   ],
   "source": [
    "# Test on custom image\n",
    "\n",
    "from PIL import Image\n",
    "import torchvision.transforms as transforms\n",
    "\n",
    "img = Image.open('datasets/custom-happy.jpg')\n",
    "img = img.resize((64, 64))\n",
    "img = transforms.ToTensor()(img)\n",
    "img = img.unsqueeze(0)\n",
    "\n",
    "with torch.no_grad():\n",
    "    y_pred = model(img)\n",
    "    y_pred = y_pred.round()\n",
    "    print(f'The person is {\"happy\" if y_pred.item() == 1 else \"not happy\"}')"
   ]
  },
  {
   "cell_type": "code",
   "execution_count": 99,
   "id": "83e5ffa1",
   "metadata": {},
   "outputs": [],
   "source": [
    "torch.save(model.state_dict(), 'model/happy-cnn.pth')"
   ]
  }
 ],
 "metadata": {
  "kernelspec": {
   "display_name": "Python 3 (ipykernel)",
   "language": "python",
   "name": "python3"
  },
  "language_info": {
   "codemirror_mode": {
    "name": "ipython",
    "version": 3
   },
   "file_extension": ".py",
   "mimetype": "text/x-python",
   "name": "python",
   "nbconvert_exporter": "python",
   "pygments_lexer": "ipython3",
   "version": "3.11.4"
  }
 },
 "nbformat": 4,
 "nbformat_minor": 5
}
